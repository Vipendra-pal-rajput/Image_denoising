{
  "nbformat": 4,
  "nbformat_minor": 0,
  "metadata": {
    "accelerator": "GPU",
    "colab": {
      "name": "Image_denoising.ipynb",
      "provenance": [],
      "collapsed_sections": [],
      "authorship_tag": "ABX9TyPTkl+UDRZvyxajaL6z+iP4",
      "include_colab_link": true
    },
    "kernelspec": {
      "display_name": "Python 3",
      "name": "python3"
    },
    "language_info": {
      "name": "python"
    }
  },
  "cells": [
    {
      "cell_type": "markdown",
      "metadata": {
        "id": "view-in-github",
        "colab_type": "text"
      },
      "source": [
        "<a href=\"https://colab.research.google.com/github/Vipendra-pal-rajput/Image_denoising/blob/main/Image_denoising.ipynb\" target=\"_parent\"><img src=\"https://colab.research.google.com/assets/colab-badge.svg\" alt=\"Open In Colab\"/></a>"
      ]
    },
    {
      "cell_type": "code",
      "metadata": {
        "colab": {
          "base_uri": "https://localhost:8080/"
        },
        "id": "qS3wQ96NNQFZ",
        "outputId": "b150b885-375c-4f9e-9d12-c90f67cd3754"
      },
      "source": [
        "!mkdir Denoised_image      # Making Directory for storing images\n",
        "% cd Denoised_image     \n",
        "#!mkdir Original_image     \n",
        "#% cd Original_image"
      ],
      "execution_count": 1,
      "outputs": [
        {
          "output_type": "stream",
          "text": [
            "/content/Denoised_image\n"
          ],
          "name": "stdout"
        }
      ]
    },
    {
      "cell_type": "code",
      "metadata": {
        "id": "J1A5u5XgGJn-"
      },
      "source": [
        "import cv2                                     # For computer vision read write and display image\n",
        "from PIL import Image                          # For plotting, displaying, manipulation, Opening / copying / saving the image\n",
        "import numpy as np                             # For Arithmetic Calculations\n",
        "import matplotlib.pyplot as plt                # For plotting images\n",
        "from skimage.restoration import estimate_sigma # For finding the standard deviation of the image\n",
        "import glob                                    # used to return all file paths that match a specific pattern or find an file\n",
        "import time                                    # Taking current time"
      ],
      "execution_count": 2,
      "outputs": []
    },
    {
      "cell_type": "code",
      "metadata": {
        "id": "mQIqSh0FGUag"
      },
      "source": [
        "def denoise_more(x):                                             # Function for image denoising\n",
        "    pil_image = Image.open(x)                                    # Reading an image using PIL library\n",
        "    img = cv2.cvtColor(np.array(pil_image), cv2.COLOR_RGB2BGR)   # For converting Image from PIL to cv2 format\n",
        "    kernel = np.ones((2,2), np.uint8)       # Kernel used for denoising\n",
        "    kernel1 = np.ones((1,1), np.uint8)      # Kernel used for denoising\n",
        "    bilateral = cv2.bilateralFilter(img, 100, 100, 275)           # Applying Bilateral Filter  \n",
        "    erosion_image = cv2.erode(bilateral, kernel, iterations=1)    # Applying Erosion on bilateral image\n",
        "    bilateral = cv2.bilateralFilter(erosion_image, 100, 100, 275) # Applying Bilateral on Erosed image\n",
        "    dilation_image = cv2.dilate(bilateral, kernel1, iterations=1) # Applying Dilation on Bilateral image\n",
        "    ret, thresh3 = cv2.threshold(dilation_image, 230, 255, cv2.THRESH_TRUNC) # Truncated Threshold \n",
        "    cv2.imwrite('{0}'.format(x),thresh3) #for saving image without labeled boundary\n",
        "    #cv2.imwrite('/content/Denoised_image/{0}'.format(x),thresh3) #for saving image without labeled boundary\n",
        "\n",
        "    # if you want to display denoised image in terminal then remove these comments\n",
        "    #plt.figure(figsize=(25,22))   # Figure size\n",
        "    #plt.imshow(thresh3)           # Plotting denoised Image"
      ],
      "execution_count": 3,
      "outputs": []
    },
    {
      "cell_type": "code",
      "metadata": {
        "id": "c5TevpgSGXPW"
      },
      "source": [
        "def denoise_avg(x):                                              # Function for image denoising\n",
        "    pil_image = Image.open(x)                                    # Reading an image using PIL library\n",
        "    img = cv2.cvtColor(np.array(pil_image), cv2.COLOR_RGB2BGR)   # For converting Image from PIL to cv2 format\n",
        "    kernel = np.ones((2,2), np.uint8)   # Kernel used for denoising\n",
        "    kernel1 = np.ones((1,1), np.uint8)  # Kernel used for denoising\n",
        "    bilateral = cv2.bilateralFilter(img, 100, 100, 275)           # Applying Bilateral Filter  \n",
        "    erosion_image = cv2.erode(bilateral, kernel, iterations=1)    # Applying Erosion in bilateral image\n",
        "    bilateral = cv2.bilateralFilter(erosion_image, 100, 100, 275) # Applying Bilateral Filter\n",
        "    ret, thresh3 = cv2.threshold(bilateral, 230, 255, cv2.THRESH_TRUNC) # Truncated Threshold \n",
        "    cv2.imwrite('{0}'.format(x),thresh3) #for saving image without labeled boundary\n",
        "    #cv2.imwrite('/content/Denoised_image/{0}'.format(x),thresh3) #for saving image without labeled boundary\n",
        "    \n",
        "    # if you want to display denoised image in terminal then remove these comments\n",
        "    #plt.figure(figsize=(25,22))   # Figure size\n",
        "    #plt.imshow(thresh3)           # Plotting denoised Image"
      ],
      "execution_count": 4,
      "outputs": []
    },
    {
      "cell_type": "code",
      "metadata": {
        "id": "9VEwJK66GaCO"
      },
      "source": [
        "def denoise_less(x):                                             # Function for image denoising\n",
        "    pil_image = Image.open(x)                                    # Reading an image using PIL library\n",
        "    img = cv2.cvtColor(np.array(pil_image), cv2.COLOR_RGB2BGR)   # For converting Image from PIL to cv2 format    \n",
        "    kernel = np.ones((2,2), np.uint8)   # Kernel used for denoising\n",
        "    kernel1 = np.ones((1,1), np.uint8)  # Kernel used for denoising\n",
        "    bilateral = cv2.bilateralFilter(img, 100, 100, 275)                      # Applying Bilateral Filter \n",
        "    erosion_image = cv2.erode(bilateral, kernel, iterations=1)               # Applying Erosion in bilateral image\n",
        "    ret, thresh3 = cv2.threshold(erosion_image, 200, 255, cv2.THRESH_TRUNC)  # Truncated Threshold \n",
        "    cv2.imwrite('{0}'.format(x),thresh3) #for saving image without labeled boundary\n",
        "    #cv2.imwrite('/content/Denoised_image/{0}'.format(x),thresh3) #for saving image without labeled boundary\n",
        "\n",
        "    # if you want to display denoised image in terminal then remove these comments\n",
        "    #plt.figure(figsize=(25,22))   # Figure size\n",
        "    #plt.imshow(thresh3)           # Plotting denoised Image (Truncated Threshold of the image)"
      ],
      "execution_count": 5,
      "outputs": []
    },
    {
      "cell_type": "code",
      "metadata": {
        "colab": {
          "resources": {
            "http://localhost:8080/nbextensions/google.colab/files.js": {
              "data": "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",
              "ok": true,
              "headers": [
                [
                  "content-type",
                  "application/javascript"
                ]
              ],
              "status": 200,
              "status_text": ""
            }
          },
          "base_uri": "https://localhost:8080/",
          "height": 208
        },
        "id": "LX1pIE9GND16",
        "outputId": "d4119c90-52f0-45b8-b9c5-1f5726bd89f5"
      },
      "source": [
        "from google.colab import files\n",
        "uploaded = files.upload()  # For upload images using popup window or by choose location"
      ],
      "execution_count": 6,
      "outputs": [
        {
          "output_type": "display_data",
          "data": {
            "text/html": [
              "\n",
              "     <input type=\"file\" id=\"files-65c0564e-14c8-49f4-b266-a69efe0db8e8\" name=\"files[]\" multiple disabled\n",
              "        style=\"border:none\" />\n",
              "     <output id=\"result-65c0564e-14c8-49f4-b266-a69efe0db8e8\">\n",
              "      Upload widget is only available when the cell has been executed in the\n",
              "      current browser session. Please rerun this cell to enable.\n",
              "      </output>\n",
              "      <script src=\"/nbextensions/google.colab/files.js\"></script> "
            ],
            "text/plain": [
              "<IPython.core.display.HTML object>"
            ]
          },
          "metadata": {
            "tags": []
          }
        },
        {
          "output_type": "stream",
          "text": [
            "Saving 1 (2).png to 1 (2).png\n",
            "Saving 1 (3).png to 1 (3).png\n",
            "Saving 1 (7).png to 1 (7).png\n",
            "Saving 1 (9).png to 1 (9).png\n",
            "Saving 1 (280).jpg to 1 (280).jpg\n"
          ],
          "name": "stdout"
        }
      ]
    },
    {
      "cell_type": "code",
      "metadata": {
        "colab": {
          "base_uri": "https://localhost:8080/"
        },
        "id": "Dt5SqSfJWdeX",
        "outputId": "0aeb8f7e-8978-4400-dec0-3c988f9e6d1e"
      },
      "source": [
        "!dir # Checking images present in folder"
      ],
      "execution_count": 7,
      "outputs": [
        {
          "output_type": "stream",
          "text": [
            "1\\ (280).jpg  1\\ (2).png  1\\ (3).png  1\\ (7).png  1\\ (9).png\n"
          ],
          "name": "stdout"
        }
      ]
    },
    {
      "cell_type": "code",
      "metadata": {
        "colab": {
          "base_uri": "https://localhost:8080/",
          "height": 52
        },
        "id": "VSt53rOcNv4z",
        "outputId": "8bc2aa4b-42a2-4421-f89d-930ee9890935"
      },
      "source": [
        "'''\n",
        "import sys\n",
        "print (sys.version)\n",
        "import shutil\n",
        "#shutil.copytree('/content/Denoised_image', '/content/Original_image', dirs_exist_ok=True)\n",
        "shutil.copytree('/content/Denoised_image', '/content/Original_image')\n",
        "'''"
      ],
      "execution_count": 8,
      "outputs": [
        {
          "output_type": "execute_result",
          "data": {
            "application/vnd.google.colaboratory.intrinsic+json": {
              "type": "string"
            },
            "text/plain": [
              "\"\\nimport sys\\nprint (sys.version)\\nimport shutil\\n#shutil.copytree('/content/Denoised_image', '/content/Original_image', dirs_exist_ok=True)\\nshutil.copytree('/content/Denoised_image', '/content/Original_image')\\n\""
            ]
          },
          "metadata": {
            "tags": []
          },
          "execution_count": 8
        }
      ]
    },
    {
      "cell_type": "code",
      "metadata": {
        "colab": {
          "base_uri": "https://localhost:8080/"
        },
        "id": "6XQlNDt-BW0v",
        "outputId": "42f007a7-6eaf-44b9-ac26-74bc2df5153c"
      },
      "source": [
        "path = \"/content/Denoised_image/*.*\"   # Taking path of input image directory and select all images\n",
        "start = time.time()                    # Taking start time\n",
        "for file in glob.glob(path):\n",
        "  i = cv2.imread(file, cv2.IMREAD_COLOR)    # Reading the image\n",
        "  a = i.shape                               # Checking shape of the image\n",
        "  std=estimate_sigma(i, multichannel=True, average_sigmas=True).round(2)  #calculating Standard Deviation of the image\n",
        "  if std<=0.05:      # If Standard Deviation of image is less then .05 then we don't need to denoise that image and we pass those images\n",
        "    # print(\"Standard Deviation of \", file, \" image is : \",std, \"and shape of image is : \", a)\n",
        "    pass\n",
        "  else:\n",
        "    print(\"Standard Deviation of \", file, \" image is : \",std)            # Printing Standard Deviation of image\n",
        "    print(\"Dimension (Shape in terms of pixels) of the Image is :\", a)   # Printing shape of image\n",
        "\n",
        "    if a < (600, 600, 10):                    # Applying condition for image to be denoised for less shape images\n",
        "        start1 = time.time()                  # Taking start time of image before denoising\n",
        "        denoise_less(file)                    # Calling Function\n",
        "        end1 = time.time()                    # Taking end time after execution of denoising\n",
        "        time_take1 = (end1-start1)            # Finding time difference to be taken in single image denoised execution\n",
        "        print(\"time taken : \",time_take1 ,\"s𝓮𝓬𝓸𝓷𝓭\") # Printing time in terms of senonds\n",
        "        print('\\n')                           # taking single line break\n",
        "\n",
        "    else:                                     # For large or big(shape) images \n",
        "        if(0.06 <=std<= 0.5):                 # If value of standard deviation is between 0.06 and 0.5 \n",
        "            start2 = time.time()              # Taking start time of image before denoising\n",
        "            denoise_less(file)                # Calling Function\n",
        "            print('Present Noise : less')     # Printing Noise type\n",
        "            end2 = time.time()                # Taking end time after execution of denoising\n",
        "            time_take2 = (end2-start2)        # Finding time difference to be taken in single image denoised execution\n",
        "            print(\"time taken : \",time_take2 ,\"s𝓮𝓬𝓸𝓷𝓭\")# Printing time in terms of senonds\n",
        "            print('\\n')                       # taking single line break\n",
        "\n",
        "        elif(0.51 <=std<= .9):               # If value of standard deviation is between 0.51 to 0.9\n",
        "            start3 = time.time()             # Taking start time of image before denoising\n",
        "            denoise_avg(file)                # Calling Function\n",
        "            print('Present Noise : Average') # Printing Noise type\n",
        "            end3 = time.time()               # Taking end time after execution of denoising\n",
        "            time_take3 = (end3-start3)       # Finding time difference to be taken in single image denoised execution\n",
        "            print(\"time taken : \",time_take3 ,\"s𝓮𝓬𝓸𝓷𝓭\")   # Printing time in terms of senonds\n",
        "            print('\\n')                      # taking single line break\n",
        "\n",
        "        else:                                # If value of standard deviation is rather then all above define\n",
        "            start4 = time.time()             # Taking start time of image before denoising\n",
        "            denoise_more(file)               # Calling Function\n",
        "            print('Present Noise : More')    # Printing Noise type \n",
        "            end4 = time.time()               # Taking end time after execution of denoising\n",
        "            time_take4 = (end4-start4)       # Finding time difference to be taken in single image denoised execution\n",
        "            print(\"time taken : \",time_take4 ,\"s𝓮𝓬𝓸𝓷𝓭\")   # Printing time in terms of senonds\n",
        "            print('\\n')                      # taking single line break\n",
        "\n",
        "end = time.time()                   # Taking Final whole end time after execution of all images\n",
        "time_take = (end-start)/60          # Finding time difference to be taken in single image denoised execution\n",
        "print(\"Total time taken to run this program for denoising: \",time_take ,\"𝓶𝓲𝓷𝓼\")   # Printing whole time to be taken in execution in terms of minute"
      ],
      "execution_count": 9,
      "outputs": [
        {
          "output_type": "stream",
          "text": [
            "Standard Deviation of  /content/Denoised_image/1 (9).png  image is :  3.44\n",
            "Dimension (Shape in terms of pixels) of the Image is : (258, 540, 3)\n",
            "time taken :  2.1526408195495605 s𝓮𝓬𝓸𝓷𝓭\n",
            "\n",
            "\n",
            "Standard Deviation of  /content/Denoised_image/1 (7).png  image is :  3.54\n",
            "Dimension (Shape in terms of pixels) of the Image is : (258, 540, 3)\n",
            "time taken :  2.0103724002838135 s𝓮𝓬𝓸𝓷𝓭\n",
            "\n",
            "\n",
            "Standard Deviation of  /content/Denoised_image/1 (3).png  image is :  3.77\n",
            "Dimension (Shape in terms of pixels) of the Image is : (258, 540, 3)\n",
            "time taken :  1.9969565868377686 s𝓮𝓬𝓸𝓷𝓭\n",
            "\n",
            "\n",
            "Standard Deviation of  /content/Denoised_image/1 (280).jpg  image is :  0.45\n",
            "Dimension (Shape in terms of pixels) of the Image is : (2338, 1654, 3)\n",
            "Present Noise : less\n",
            "time taken :  54.57363319396973 s𝓮𝓬𝓸𝓷𝓭\n",
            "\n",
            "\n",
            "Standard Deviation of  /content/Denoised_image/1 (2).png  image is :  2.68\n",
            "Dimension (Shape in terms of pixels) of the Image is : (420, 540, 3)\n",
            "time taken :  3.383120536804199 s𝓮𝓬𝓸𝓷𝓭\n",
            "\n",
            "\n",
            "Total time taken to run this program for denoising:  1.0774085561434428 𝓶𝓲𝓷𝓼\n"
          ],
          "name": "stdout"
        }
      ]
    }
  ]
}